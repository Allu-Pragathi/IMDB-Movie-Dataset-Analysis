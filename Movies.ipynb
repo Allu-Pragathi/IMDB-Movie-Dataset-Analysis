{
 "cells": [
  {
   "cell_type": "code",
   "execution_count": 1,
   "id": "7322e47c",
   "metadata": {},
   "outputs": [
    {
     "name": "stderr",
     "output_type": "stream",
     "text": [
      "C:\\Users\\praga\\anaconda3\\lib\\site-packages\\scipy\\__init__.py:146: UserWarning: A NumPy version >=1.16.5 and <1.23.0 is required for this version of SciPy (detected version 1.24.4\n",
      "  warnings.warn(f\"A NumPy version >={np_minversion} and <{np_maxversion}\"\n"
     ]
    }
   ],
   "source": [
    "import pandas as pd\n",
    "import numpy as np\n",
    "import seaborn as sns\n",
    "import matplotlib.pyplot as plt"
   ]
  },
  {
   "cell_type": "code",
   "execution_count": 2,
   "id": "efd43921",
   "metadata": {},
   "outputs": [
    {
     "data": {
      "text/html": [
       "<div>\n",
       "<style scoped>\n",
       "    .dataframe tbody tr th:only-of-type {\n",
       "        vertical-align: middle;\n",
       "    }\n",
       "\n",
       "    .dataframe tbody tr th {\n",
       "        vertical-align: top;\n",
       "    }\n",
       "\n",
       "    .dataframe thead th {\n",
       "        text-align: right;\n",
       "    }\n",
       "</style>\n",
       "<table border=\"1\" class=\"dataframe\">\n",
       "  <thead>\n",
       "    <tr style=\"text-align: right;\">\n",
       "      <th></th>\n",
       "      <th>names</th>\n",
       "      <th>date_x</th>\n",
       "      <th>score</th>\n",
       "      <th>genre</th>\n",
       "      <th>overview</th>\n",
       "      <th>crew</th>\n",
       "      <th>orig_title</th>\n",
       "      <th>status</th>\n",
       "      <th>orig_lang</th>\n",
       "      <th>budget_x</th>\n",
       "      <th>revenue</th>\n",
       "      <th>country</th>\n",
       "    </tr>\n",
       "  </thead>\n",
       "  <tbody>\n",
       "    <tr>\n",
       "      <th>0</th>\n",
       "      <td>Creed III</td>\n",
       "      <td>03/02/2023</td>\n",
       "      <td>73.0</td>\n",
       "      <td>Drama, Action</td>\n",
       "      <td>After dominating the boxing world, Adonis Cree...</td>\n",
       "      <td>Michael B. Jordan, Adonis Creed, Tessa Thompso...</td>\n",
       "      <td>Creed III</td>\n",
       "      <td>Released</td>\n",
       "      <td>English</td>\n",
       "      <td>75000000.0</td>\n",
       "      <td>2.716167e+08</td>\n",
       "      <td>AU</td>\n",
       "    </tr>\n",
       "    <tr>\n",
       "      <th>1</th>\n",
       "      <td>Avatar: The Way of Water</td>\n",
       "      <td>12/15/2022</td>\n",
       "      <td>78.0</td>\n",
       "      <td>Science Fiction, Adventure, Action</td>\n",
       "      <td>Set more than a decade after the events of the...</td>\n",
       "      <td>Sam Worthington, Jake Sully, Zoe Saldaña, Neyt...</td>\n",
       "      <td>Avatar: The Way of Water</td>\n",
       "      <td>Released</td>\n",
       "      <td>English</td>\n",
       "      <td>460000000.0</td>\n",
       "      <td>2.316795e+09</td>\n",
       "      <td>AU</td>\n",
       "    </tr>\n",
       "    <tr>\n",
       "      <th>2</th>\n",
       "      <td>The Super Mario Bros. Movie</td>\n",
       "      <td>04/05/2023</td>\n",
       "      <td>76.0</td>\n",
       "      <td>Animation, Adventure, Family, Fantasy, Comedy</td>\n",
       "      <td>While working underground to fix a water main,...</td>\n",
       "      <td>Chris Pratt, Mario (voice), Anya Taylor-Joy, P...</td>\n",
       "      <td>The Super Mario Bros. Movie</td>\n",
       "      <td>Released</td>\n",
       "      <td>English</td>\n",
       "      <td>100000000.0</td>\n",
       "      <td>7.244590e+08</td>\n",
       "      <td>AU</td>\n",
       "    </tr>\n",
       "    <tr>\n",
       "      <th>3</th>\n",
       "      <td>Mummies</td>\n",
       "      <td>01/05/2023</td>\n",
       "      <td>70.0</td>\n",
       "      <td>Animation, Comedy, Family, Adventure, Fantasy</td>\n",
       "      <td>Through a series of unfortunate events, three ...</td>\n",
       "      <td>Óscar Barberán, Thut (voice), Ana Esther Albor...</td>\n",
       "      <td>Momias</td>\n",
       "      <td>Released</td>\n",
       "      <td>Spanish, Castilian</td>\n",
       "      <td>12300000.0</td>\n",
       "      <td>3.420000e+07</td>\n",
       "      <td>AU</td>\n",
       "    </tr>\n",
       "    <tr>\n",
       "      <th>4</th>\n",
       "      <td>Supercell</td>\n",
       "      <td>03/17/2023</td>\n",
       "      <td>61.0</td>\n",
       "      <td>Action</td>\n",
       "      <td>Good-hearted teenager William always lived in ...</td>\n",
       "      <td>Skeet Ulrich, Roy Cameron, Anne Heche, Dr Quin...</td>\n",
       "      <td>Supercell</td>\n",
       "      <td>Released</td>\n",
       "      <td>English</td>\n",
       "      <td>77000000.0</td>\n",
       "      <td>3.409420e+08</td>\n",
       "      <td>US</td>\n",
       "    </tr>\n",
       "    <tr>\n",
       "      <th>...</th>\n",
       "      <td>...</td>\n",
       "      <td>...</td>\n",
       "      <td>...</td>\n",
       "      <td>...</td>\n",
       "      <td>...</td>\n",
       "      <td>...</td>\n",
       "      <td>...</td>\n",
       "      <td>...</td>\n",
       "      <td>...</td>\n",
       "      <td>...</td>\n",
       "      <td>...</td>\n",
       "      <td>...</td>\n",
       "    </tr>\n",
       "    <tr>\n",
       "      <th>10173</th>\n",
       "      <td>20th Century Women</td>\n",
       "      <td>12/28/2016</td>\n",
       "      <td>73.0</td>\n",
       "      <td>Drama</td>\n",
       "      <td>In 1979 Santa Barbara, California, Dorothea Fi...</td>\n",
       "      <td>Annette Bening, Dorothea Fields, Lucas Jade Zu...</td>\n",
       "      <td>20th Century Women</td>\n",
       "      <td>Released</td>\n",
       "      <td>English</td>\n",
       "      <td>7000000.0</td>\n",
       "      <td>9.353729e+06</td>\n",
       "      <td>US</td>\n",
       "    </tr>\n",
       "    <tr>\n",
       "      <th>10174</th>\n",
       "      <td>Delta Force 2: The Colombian Connection</td>\n",
       "      <td>08/24/1990</td>\n",
       "      <td>54.0</td>\n",
       "      <td>Action</td>\n",
       "      <td>When DEA agents are taken captive by a ruthles...</td>\n",
       "      <td>Chuck Norris, Col. Scott McCoy, Billy Drago, R...</td>\n",
       "      <td>Delta Force 2: The Colombian Connection</td>\n",
       "      <td>Released</td>\n",
       "      <td>English</td>\n",
       "      <td>9145817.8</td>\n",
       "      <td>6.698361e+06</td>\n",
       "      <td>US</td>\n",
       "    </tr>\n",
       "    <tr>\n",
       "      <th>10175</th>\n",
       "      <td>The Russia House</td>\n",
       "      <td>12/21/1990</td>\n",
       "      <td>61.0</td>\n",
       "      <td>Drama, Thriller, Romance</td>\n",
       "      <td>Barley Scott Blair, a Lisbon-based editor of R...</td>\n",
       "      <td>Sean Connery, Bartholomew 'Barley' Scott Blair...</td>\n",
       "      <td>The Russia House</td>\n",
       "      <td>Released</td>\n",
       "      <td>English</td>\n",
       "      <td>21800000.0</td>\n",
       "      <td>2.299799e+07</td>\n",
       "      <td>US</td>\n",
       "    </tr>\n",
       "    <tr>\n",
       "      <th>10176</th>\n",
       "      <td>Darkman II: The Return of Durant</td>\n",
       "      <td>07/11/1995</td>\n",
       "      <td>55.0</td>\n",
       "      <td>Action, Adventure, Science Fiction, Thriller, ...</td>\n",
       "      <td>Darkman and Durant return and they hate each o...</td>\n",
       "      <td>Larry Drake, Robert G. Durant, Arnold Vosloo, ...</td>\n",
       "      <td>Darkman II: The Return of Durant</td>\n",
       "      <td>Released</td>\n",
       "      <td>English</td>\n",
       "      <td>116000000.0</td>\n",
       "      <td>4.756613e+08</td>\n",
       "      <td>US</td>\n",
       "    </tr>\n",
       "    <tr>\n",
       "      <th>10177</th>\n",
       "      <td>The Swan Princess: A Royal Wedding</td>\n",
       "      <td>07/20/2020</td>\n",
       "      <td>70.0</td>\n",
       "      <td>Animation, Family, Fantasy</td>\n",
       "      <td>Princess Odette and Prince Derek are going to ...</td>\n",
       "      <td>Nina Herzog, Princess Odette (voice), Yuri Low...</td>\n",
       "      <td>The Swan Princess: A Royal Wedding</td>\n",
       "      <td>Released</td>\n",
       "      <td>English</td>\n",
       "      <td>92400000.0</td>\n",
       "      <td>5.394018e+08</td>\n",
       "      <td>GB</td>\n",
       "    </tr>\n",
       "  </tbody>\n",
       "</table>\n",
       "<p>10178 rows × 12 columns</p>\n",
       "</div>"
      ],
      "text/plain": [
       "                                         names       date_x  score  \\\n",
       "0                                    Creed III  03/02/2023    73.0   \n",
       "1                     Avatar: The Way of Water  12/15/2022    78.0   \n",
       "2                  The Super Mario Bros. Movie  04/05/2023    76.0   \n",
       "3                                      Mummies  01/05/2023    70.0   \n",
       "4                                    Supercell  03/17/2023    61.0   \n",
       "...                                        ...          ...    ...   \n",
       "10173                       20th Century Women  12/28/2016    73.0   \n",
       "10174  Delta Force 2: The Colombian Connection  08/24/1990    54.0   \n",
       "10175                         The Russia House  12/21/1990    61.0   \n",
       "10176         Darkman II: The Return of Durant  07/11/1995    55.0   \n",
       "10177       The Swan Princess: A Royal Wedding  07/20/2020    70.0   \n",
       "\n",
       "                                                   genre  \\\n",
       "0                                          Drama, Action   \n",
       "1                     Science Fiction, Adventure, Action   \n",
       "2          Animation, Adventure, Family, Fantasy, Comedy   \n",
       "3          Animation, Comedy, Family, Adventure, Fantasy   \n",
       "4                                                 Action   \n",
       "...                                                  ...   \n",
       "10173                                              Drama   \n",
       "10174                                             Action   \n",
       "10175                           Drama, Thriller, Romance   \n",
       "10176  Action, Adventure, Science Fiction, Thriller, ...   \n",
       "10177                         Animation, Family, Fantasy   \n",
       "\n",
       "                                                overview  \\\n",
       "0      After dominating the boxing world, Adonis Cree...   \n",
       "1      Set more than a decade after the events of the...   \n",
       "2      While working underground to fix a water main,...   \n",
       "3      Through a series of unfortunate events, three ...   \n",
       "4      Good-hearted teenager William always lived in ...   \n",
       "...                                                  ...   \n",
       "10173  In 1979 Santa Barbara, California, Dorothea Fi...   \n",
       "10174  When DEA agents are taken captive by a ruthles...   \n",
       "10175  Barley Scott Blair, a Lisbon-based editor of R...   \n",
       "10176  Darkman and Durant return and they hate each o...   \n",
       "10177  Princess Odette and Prince Derek are going to ...   \n",
       "\n",
       "                                                    crew  \\\n",
       "0      Michael B. Jordan, Adonis Creed, Tessa Thompso...   \n",
       "1      Sam Worthington, Jake Sully, Zoe Saldaña, Neyt...   \n",
       "2      Chris Pratt, Mario (voice), Anya Taylor-Joy, P...   \n",
       "3      Óscar Barberán, Thut (voice), Ana Esther Albor...   \n",
       "4      Skeet Ulrich, Roy Cameron, Anne Heche, Dr Quin...   \n",
       "...                                                  ...   \n",
       "10173  Annette Bening, Dorothea Fields, Lucas Jade Zu...   \n",
       "10174  Chuck Norris, Col. Scott McCoy, Billy Drago, R...   \n",
       "10175  Sean Connery, Bartholomew 'Barley' Scott Blair...   \n",
       "10176  Larry Drake, Robert G. Durant, Arnold Vosloo, ...   \n",
       "10177  Nina Herzog, Princess Odette (voice), Yuri Low...   \n",
       "\n",
       "                                    orig_title     status  \\\n",
       "0                                    Creed III   Released   \n",
       "1                     Avatar: The Way of Water   Released   \n",
       "2                  The Super Mario Bros. Movie   Released   \n",
       "3                                       Momias   Released   \n",
       "4                                    Supercell   Released   \n",
       "...                                        ...        ...   \n",
       "10173                       20th Century Women   Released   \n",
       "10174  Delta Force 2: The Colombian Connection   Released   \n",
       "10175                         The Russia House   Released   \n",
       "10176         Darkman II: The Return of Durant   Released   \n",
       "10177       The Swan Princess: A Royal Wedding   Released   \n",
       "\n",
       "                 orig_lang     budget_x       revenue country  \n",
       "0                  English   75000000.0  2.716167e+08      AU  \n",
       "1                  English  460000000.0  2.316795e+09      AU  \n",
       "2                  English  100000000.0  7.244590e+08      AU  \n",
       "3       Spanish, Castilian   12300000.0  3.420000e+07      AU  \n",
       "4                  English   77000000.0  3.409420e+08      US  \n",
       "...                    ...          ...           ...     ...  \n",
       "10173              English    7000000.0  9.353729e+06      US  \n",
       "10174              English    9145817.8  6.698361e+06      US  \n",
       "10175              English   21800000.0  2.299799e+07      US  \n",
       "10176              English  116000000.0  4.756613e+08      US  \n",
       "10177              English   92400000.0  5.394018e+08      GB  \n",
       "\n",
       "[10178 rows x 12 columns]"
      ]
     },
     "execution_count": 2,
     "metadata": {},
     "output_type": "execute_result"
    }
   ],
   "source": [
    "df=pd.read_csv(\"imdb_movies.csv\")\n",
    "df"
   ]
  },
  {
   "cell_type": "code",
   "execution_count": 3,
   "id": "1d0f00e0",
   "metadata": {},
   "outputs": [
    {
     "data": {
      "text/plain": [
       "(10178, 12)"
      ]
     },
     "execution_count": 3,
     "metadata": {},
     "output_type": "execute_result"
    }
   ],
   "source": [
    "df.shape"
   ]
  },
  {
   "cell_type": "code",
   "execution_count": 4,
   "id": "26241fa9",
   "metadata": {},
   "outputs": [
    {
     "name": "stdout",
     "output_type": "stream",
     "text": [
      "<class 'pandas.core.frame.DataFrame'>\n",
      "RangeIndex: 10178 entries, 0 to 10177\n",
      "Data columns (total 12 columns):\n",
      " #   Column      Non-Null Count  Dtype  \n",
      "---  ------      --------------  -----  \n",
      " 0   names       10178 non-null  object \n",
      " 1   date_x      10178 non-null  object \n",
      " 2   score       10178 non-null  float64\n",
      " 3   genre       10093 non-null  object \n",
      " 4   overview    10178 non-null  object \n",
      " 5   crew        10122 non-null  object \n",
      " 6   orig_title  10178 non-null  object \n",
      " 7   status      10178 non-null  object \n",
      " 8   orig_lang   10178 non-null  object \n",
      " 9   budget_x    10178 non-null  float64\n",
      " 10  revenue     10178 non-null  float64\n",
      " 11  country     10178 non-null  object \n",
      "dtypes: float64(3), object(9)\n",
      "memory usage: 954.3+ KB\n"
     ]
    }
   ],
   "source": [
    "df.info()"
   ]
  },
  {
   "cell_type": "code",
   "execution_count": 5,
   "id": "5b44a231",
   "metadata": {},
   "outputs": [
    {
     "data": {
      "text/html": [
       "<div>\n",
       "<style scoped>\n",
       "    .dataframe tbody tr th:only-of-type {\n",
       "        vertical-align: middle;\n",
       "    }\n",
       "\n",
       "    .dataframe tbody tr th {\n",
       "        vertical-align: top;\n",
       "    }\n",
       "\n",
       "    .dataframe thead th {\n",
       "        text-align: right;\n",
       "    }\n",
       "</style>\n",
       "<table border=\"1\" class=\"dataframe\">\n",
       "  <thead>\n",
       "    <tr style=\"text-align: right;\">\n",
       "      <th></th>\n",
       "      <th>score</th>\n",
       "      <th>budget_x</th>\n",
       "      <th>revenue</th>\n",
       "    </tr>\n",
       "  </thead>\n",
       "  <tbody>\n",
       "    <tr>\n",
       "      <th>count</th>\n",
       "      <td>10178.000000</td>\n",
       "      <td>1.017800e+04</td>\n",
       "      <td>1.017800e+04</td>\n",
       "    </tr>\n",
       "    <tr>\n",
       "      <th>mean</th>\n",
       "      <td>63.497052</td>\n",
       "      <td>6.488238e+07</td>\n",
       "      <td>2.531401e+08</td>\n",
       "    </tr>\n",
       "    <tr>\n",
       "      <th>std</th>\n",
       "      <td>13.537012</td>\n",
       "      <td>5.707565e+07</td>\n",
       "      <td>2.777880e+08</td>\n",
       "    </tr>\n",
       "    <tr>\n",
       "      <th>min</th>\n",
       "      <td>0.000000</td>\n",
       "      <td>1.000000e+00</td>\n",
       "      <td>0.000000e+00</td>\n",
       "    </tr>\n",
       "    <tr>\n",
       "      <th>25%</th>\n",
       "      <td>59.000000</td>\n",
       "      <td>1.500000e+07</td>\n",
       "      <td>2.858898e+07</td>\n",
       "    </tr>\n",
       "    <tr>\n",
       "      <th>50%</th>\n",
       "      <td>65.000000</td>\n",
       "      <td>5.000000e+07</td>\n",
       "      <td>1.529349e+08</td>\n",
       "    </tr>\n",
       "    <tr>\n",
       "      <th>75%</th>\n",
       "      <td>71.000000</td>\n",
       "      <td>1.050000e+08</td>\n",
       "      <td>4.178021e+08</td>\n",
       "    </tr>\n",
       "    <tr>\n",
       "      <th>max</th>\n",
       "      <td>100.000000</td>\n",
       "      <td>4.600000e+08</td>\n",
       "      <td>2.923706e+09</td>\n",
       "    </tr>\n",
       "  </tbody>\n",
       "</table>\n",
       "</div>"
      ],
      "text/plain": [
       "              score      budget_x       revenue\n",
       "count  10178.000000  1.017800e+04  1.017800e+04\n",
       "mean      63.497052  6.488238e+07  2.531401e+08\n",
       "std       13.537012  5.707565e+07  2.777880e+08\n",
       "min        0.000000  1.000000e+00  0.000000e+00\n",
       "25%       59.000000  1.500000e+07  2.858898e+07\n",
       "50%       65.000000  5.000000e+07  1.529349e+08\n",
       "75%       71.000000  1.050000e+08  4.178021e+08\n",
       "max      100.000000  4.600000e+08  2.923706e+09"
      ]
     },
     "execution_count": 5,
     "metadata": {},
     "output_type": "execute_result"
    }
   ],
   "source": [
    "df.describe()"
   ]
  },
  {
   "cell_type": "code",
   "execution_count": 6,
   "id": "5ed4ffb0",
   "metadata": {},
   "outputs": [
    {
     "data": {
      "text/plain": [
       "0"
      ]
     },
     "execution_count": 6,
     "metadata": {},
     "output_type": "execute_result"
    }
   ],
   "source": [
    "df.duplicated().sum()"
   ]
  },
  {
   "cell_type": "code",
   "execution_count": 7,
   "id": "2ebe5f03",
   "metadata": {},
   "outputs": [
    {
     "data": {
      "text/plain": [
       "names          0\n",
       "date_x         0\n",
       "score          0\n",
       "genre         85\n",
       "overview       0\n",
       "crew          56\n",
       "orig_title     0\n",
       "status         0\n",
       "orig_lang      0\n",
       "budget_x       0\n",
       "revenue        0\n",
       "country        0\n",
       "dtype: int64"
      ]
     },
     "execution_count": 7,
     "metadata": {},
     "output_type": "execute_result"
    }
   ],
   "source": [
    "df.isnull().sum()"
   ]
  },
  {
   "cell_type": "code",
   "execution_count": 8,
   "id": "c4d9e0d3",
   "metadata": {},
   "outputs": [
    {
     "data": {
      "text/plain": [
       "names         0.000000\n",
       "date_x        0.000000\n",
       "score         0.000000\n",
       "genre         0.835135\n",
       "overview      0.000000\n",
       "crew          0.550206\n",
       "orig_title    0.000000\n",
       "status        0.000000\n",
       "orig_lang     0.000000\n",
       "budget_x      0.000000\n",
       "revenue       0.000000\n",
       "country       0.000000\n",
       "dtype: float64"
      ]
     },
     "execution_count": 8,
     "metadata": {},
     "output_type": "execute_result"
    }
   ],
   "source": [
    "df.isnull().sum() * 100 / len(df)"
   ]
  },
  {
   "cell_type": "code",
   "execution_count": 9,
   "id": "08b9eba5",
   "metadata": {},
   "outputs": [],
   "source": [
    "# Impute missing values\n",
    "for col in ['score', 'budget_x', 'revenue']:\n",
    "    df[col] = df[col].fillna(df[col].median())\n",
    "for col in ['genre', 'country', 'status', 'orig_lang','crew']:\n",
    "    df[col] = df[col].fillna(df[col].mode()[0])"
   ]
  },
  {
   "cell_type": "code",
   "execution_count": 10,
   "id": "d105ab1d",
   "metadata": {},
   "outputs": [
    {
     "data": {
      "text/plain": [
       "names         0\n",
       "date_x        0\n",
       "score         0\n",
       "genre         0\n",
       "overview      0\n",
       "crew          0\n",
       "orig_title    0\n",
       "status        0\n",
       "orig_lang     0\n",
       "budget_x      0\n",
       "revenue       0\n",
       "country       0\n",
       "dtype: int64"
      ]
     },
     "execution_count": 10,
     "metadata": {},
     "output_type": "execute_result"
    }
   ],
   "source": [
    "df.isnull().sum()"
   ]
  },
  {
   "cell_type": "code",
   "execution_count": 11,
   "id": "ce287958",
   "metadata": {},
   "outputs": [
    {
     "data": {
      "image/png": "[encoded data removed]",
      "text/plain": [
       "<Figure size 576x432 with 1 Axes>"
      ]
     },
     "metadata": {
      "needs_background": "light"
     },
     "output_type": "display_data"
    }
   ],
   "source": [
    "plt.figure(figsize=(8, 6))\n",
    "plt.hist(df['score'], bins=20, color='skyblue', edgecolor='black')\n",
    "plt.xlabel('Score')\n",
    "plt.ylabel('Frequency')\n",
    "plt.title('Distribution of Movie Scores')\n",
    "plt.show()"
   ]
  },
  {
   "cell_type": "code",
   "execution_count": 12,
   "id": "cb44a81a",
   "metadata": {},
   "outputs": [
    {
     "data": {
      "image/png": "[encoded data removed]",
      "text/plain": [
       "<Figure size 720x432 with 1 Axes>"
      ]
     },
     "metadata": {
      "needs_background": "light"
     },
     "output_type": "display_data"
    }
   ],
   "source": [
    "plt.figure(figsize=(10, 6))\n",
    "plt.scatter(df['budget_x'], df['revenue'], c='purple', marker='o', alpha=0.6)  # Use color and marker\n",
    "plt.xlabel('Budget')\n",
    "plt.ylabel('Revenue')\n",
    "plt.title('Budget vs. Revenue')\n",
    "plt.show()"
   ]
  },
  {
   "cell_type": "code",
   "execution_count": 13,
   "id": "a44e6ed4",
   "metadata": {},
   "outputs": [
    {
     "data": {
      "image/png": "[encoded data removed]",
      "text/plain": [
       "<Figure size 864x432 with 1 Axes>"
      ]
     },
     "metadata": {
      "needs_background": "light"
     },
     "output_type": "display_data"
    }
   ],
   "source": [
    "top_10_movies = df.nlargest(10, 'score')\n",
    "plt.figure(figsize=(12, 6))\n",
    "plt.bar(top_10_movies['names'], top_10_movies['score'], color='green')\n",
    "plt.xlabel('Movie Names')\n",
    "plt.ylabel('Score')\n",
    "plt.title('Top 10 Movies by Score')\n",
    "plt.xticks(rotation=45, ha='right')\n",
    "plt.tight_layout()\n",
    "plt.show()"
   ]
  },
  {
   "cell_type": "code",
   "execution_count": 14,
   "id": "9df7ff71",
   "metadata": {},
   "outputs": [
    {
     "data": {
      "image/png": "[encoded data removed]",
      "text/plain": [
       "<Figure size 1080x360 with 3 Axes>"
      ]
     },
     "metadata": {
      "needs_background": "light"
     },
     "output_type": "display_data"
    }
   ],
   "source": [
    "# Create a figure with subplots for each column\n",
    "fig, axes = plt.subplots(1, 3, figsize=(15, 5))  # 1 row, 3 columns\n",
    "\n",
    "# Boxplot for 'score'\n",
    "sns.boxplot(x=df['score'], ax=axes[0])\n",
    "axes[0].set_title('Boxplot of Score')\n",
    "\n",
    "# Boxplot for 'budget_x'\n",
    "sns.boxplot(x=df['budget_x'], ax=axes[1])\n",
    "axes[1].set_title('Boxplot of Budget')\n",
    "\n",
    "# Boxplot for 'revenue'\n",
    "sns.boxplot(x=df['revenue'], ax=axes[2])\n",
    "axes[2].set_title('Boxplot of Revenue')\n",
    "\n",
    "# Adjust layout and display the plot\n",
    "plt.tight_layout()\n",
    "plt.show()"
   ]
  },
  {
   "cell_type": "code",
   "execution_count": 15,
   "id": "9ac9b40a",
   "metadata": {},
   "outputs": [
    {
     "data": {
      "image/png": "[encoded data removed]",
      "text/plain": [
       "<Figure size 1080x360 with 3 Axes>"
      ]
     },
     "metadata": {
      "needs_background": "light"
     },
     "output_type": "display_data"
    }
   ],
   "source": [
    "import matplotlib.pyplot as plt\n",
    "\n",
    "# Create a figure with subplots for each column\n",
    "fig, axes = plt.subplots(1, 3, figsize=(15, 5)) \n",
    "\n",
    "# Histogram for 'score'\n",
    "axes[0].hist(df['score'], bins=20, color='skyblue', edgecolor='black')  \n",
    "axes[0].set_title('Histogram of Score')\n",
    "axes[0].set_xlabel('Score')\n",
    "axes[0].set_ylabel('Frequency')\n",
    "\n",
    "# Histogram for 'budget_x'\n",
    "axes[1].hist(df['budget_x'], bins=20, color='lightgreen', edgecolor='black')\n",
    "axes[1].set_title('Histogram of Budget')\n",
    "axes[1].set_xlabel('Budget')\n",
    "axes[1].set_ylabel('Frequency')\n",
    "\n",
    "# Histogram for 'revenue'\n",
    "axes[2].hist(df['revenue'], bins=20, color='lightcoral', edgecolor='black')\n",
    "axes[2].set_title('Histogram of Revenue')\n",
    "axes[2].set_xlabel('Revenue')\n",
    "axes[2].set_ylabel('Frequency')\n",
    "\n",
    "# Adjust layout and display the plot\n",
    "plt.tight_layout()\n",
    "plt.show()"
   ]
  },
  {
   "cell_type": "code",
   "execution_count": 16,
   "id": "ba98fb42",
   "metadata": {},
   "outputs": [],
   "source": [
    "# Outlier handling\n",
    "for col in ['score', 'budget_x', 'revenue']:\n",
    "    Q1 = df[col].quantile(0.25)\n",
    "    Q3 = df[col].quantile(0.75)\n",
    "    IQR = Q3 - Q1\n",
    "    lower_bound = Q1 - 1.5 * IQR\n",
    "    upper_bound = Q3 + 1.5 * IQR\n",
    "    if col in ['budget_x', 'revenue']:\n",
    "        lower_bound = max(0, lower_bound)\n",
    "    df[col] = df[col].clip(lower=lower_bound, upper=upper_bound)"
   ]
  },
  {
   "cell_type": "code",
   "execution_count": 17,
   "id": "ebb1949c",
   "metadata": {},
   "outputs": [],
   "source": [
    "from scipy.stats.mstats import winsorize\n",
    "\n",
    "# Winsorize 'budget_x' column at the 95th and 5th percentiles\n",
    "df['budget_x_winsorized'] = winsorize(df['budget_x'], limits=(0.05, 0.05))\n",
    "\n",
    "# Winsorize 'revenue' column at the 95th and 5th percentiles\n",
    "df['revenue_winsorized'] = winsorize(df['revenue'], limits=(0.05, 0.05))\n",
    "\n",
    "# Winsorize 'score' column at the 95th and 5th percentiles (optional)\n",
    "df['score_winsorized'] = winsorize(df['score'], limits=(0.05, 0.05))"
   ]
  },
  {
   "cell_type": "code",
   "execution_count": 18,
   "id": "9c7fa909",
   "metadata": {},
   "outputs": [],
   "source": [
    "from sklearn.preprocessing import StandardScaler\n",
    "\n",
    "# Create a StandardScaler object\n",
    "scaler = StandardScaler()\n",
    "\n",
    "# Fit the scaler to the numerical features\n",
    "scaler.fit(df[['budget_x', 'revenue', 'score']])\n",
    "\n",
    "# Transform the numerical features\n",
    "df[['budget_x_scaled', 'revenue_scaled', 'score_scaled']] = scaler.transform(df[['budget_x', 'revenue', 'score']])"
   ]
  },
  {
   "cell_type": "code",
   "execution_count": 19,
   "id": "26c415a0",
   "metadata": {},
   "outputs": [],
   "source": [
    "# Select the categorical columns to encode\n",
    "categorical_cols = ['genre', 'country', 'status', 'orig_lang']\n",
    "\n",
    "# Create one-hot encoded columns using get_dummies()\n",
    "encoded_df = pd.get_dummies(df, columns=categorical_cols, prefix=categorical_cols, drop_first=True)\n",
    "\n",
    "# Concatenate the encoded columns with the original DataFrame\n",
    "df = pd.concat([df, encoded_df], axis=1)"
   ]
  },
  {
   "cell_type": "code",
   "execution_count": 20,
   "id": "3a5ff44a",
   "metadata": {},
   "outputs": [],
   "source": [
    "from sklearn.preprocessing import OneHotEncoder\n",
    "\n",
    "# Create a OneHotEncoder object\n",
    "encoder = OneHotEncoder(sparse=False, handle_unknown='ignore') # sparse=False for array output\n",
    "\n",
    "# Fit the encoder to the categorical features\n",
    "encoder.fit(df[['genre', 'country', 'status', 'orig_lang']])\n",
    "\n",
    "# Transform the categorical features\n",
    "encoded_data = encoder.transform(df[['genre', 'country', 'status', 'orig_lang']])\n",
    "\n",
    "# Create column names for the encoded features\n",
    "encoded_cols = encoder.get_feature_names_out(['genre', 'country', 'status', 'orig_lang'])\n",
    "\n",
    "# Create a DataFrame for the encoded features\n",
    "encoded_df = pd.DataFrame(encoded_data, columns=encoded_cols, index=df.index)\n",
    "\n",
    "# Concatenate the encoded columns with the original DataFrame\n",
    "df = pd.concat([df, encoded_df], axis=1)"
   ]
  },
  {
   "cell_type": "code",
   "execution_count": 21,
   "id": "cd5aa659",
   "metadata": {},
   "outputs": [
    {
     "data": {
      "image/png": "[encoded data removed]",
      "text/plain": [
       "<Figure size 432x288 with 2 Axes>"
      ]
     },
     "metadata": {
      "needs_background": "light"
     },
     "output_type": "display_data"
    }
   ],
   "source": [
    "corr_matrix = df[['score', 'budget_x', 'revenue']].corr()\n",
    "plt.figure(figsize=(6, 4))\n",
    "sns.heatmap(corr_matrix, annot=True, cmap=\"coolwarm\", fmt=\".2f\")\n",
    "plt.title(\"Correlation Matrix of Numerical Features\")\n",
    "plt.show()"
   ]
  },
  {
   "cell_type": "code",
   "execution_count": 22,
   "id": "edee684f",
   "metadata": {},
   "outputs": [],
   "source": [
    "# Remove duplicate columns by keeping the first one\n",
    "df = df.loc[:, ~df.columns.duplicated()]\n",
    "\n",
    "df.loc[:, 'release_year'] = pd.to_datetime(df['date_x'].str.strip(), errors='coerce').dt.year\n"
   ]
  },
  {
   "cell_type": "code",
   "execution_count": 23,
   "id": "e748f4b9",
   "metadata": {},
   "outputs": [
    {
     "name": "stdout",
     "output_type": "stream",
     "text": [
      "0    03/02/2023 \n",
      "1    12/15/2022 \n",
      "2    04/05/2023 \n",
      "3    01/05/2023 \n",
      "4    03/17/2023 \n",
      "Name: date_x, dtype: object\n",
      "<class 'pandas.core.series.Series'>\n"
     ]
    }
   ],
   "source": [
    "print(df['date_x'].head())\n",
    "print(type(df['date_x']))\n",
    "\n"
   ]
  },
  {
   "cell_type": "code",
   "execution_count": 24,
   "id": "f9199b57",
   "metadata": {},
   "outputs": [],
   "source": [
    "import datetime\n",
    "current_year = datetime.datetime.now().year\n",
    "df['years_since_release'] = current_year - df['release_year']"
   ]
  },
  {
   "cell_type": "code",
   "execution_count": 25,
   "id": "5b6202c6",
   "metadata": {},
   "outputs": [],
   "source": [
    "df['budget_score_interaction'] = df['budget_x'] * df['score']"
   ]
  },
  {
   "cell_type": "code",
   "execution_count": 26,
   "id": "3ab14be0",
   "metadata": {},
   "outputs": [],
   "source": [
    "# Assuming you have one-hot encoded genre and country features\n",
    "df['genre_country_interaction'] = df['genre_Action'] * df['country_US'] "
   ]
  },
  {
   "cell_type": "code",
   "execution_count": 27,
   "id": "9d2f708f",
   "metadata": {},
   "outputs": [],
   "source": [
    "# Define a dictionary to map genres to broader categories\n",
    "genre_mapping = {\n",
    "    'Action': 'Action/Adventure',\n",
    "    'Adventure': 'Action/Adventure',\n",
    "    'Drama': 'Drama/Romance',\n",
    "    'Romance': 'Drama/Romance',\n",
    "    # ... add more mappings\n",
    "}\n",
    "\n",
    "# Create a new column with the broader genre categories\n",
    "df['broad_genre'] = df['genre'].map(genre_mapping)"
   ]
  },
  {
   "cell_type": "code",
   "execution_count": 28,
   "id": "771599c7",
   "metadata": {},
   "outputs": [],
   "source": [
    "# Define a dictionary to map countries to regions\n",
    "country_mapping = {\n",
    "    'USA': 'North America',\n",
    "    'Canada': 'North America',\n",
    "    'UK': 'Europe',\n",
    "    'France': 'Europe',\n",
    "    # ... add more mappings\n",
    "}\n",
    "\n",
    "# Create a new column with the regional groupings\n",
    "df['region'] = df['country'].map(country_mapping)"
   ]
  },
  {
   "cell_type": "code",
   "execution_count": 29,
   "id": "18d6f64f",
   "metadata": {},
   "outputs": [
    {
     "name": "stdout",
     "output_type": "stream",
     "text": [
      "Index(['names', 'date_x', 'score', 'genre', 'overview', 'crew', 'orig_title',\n",
      "       'status', 'orig_lang', 'budget_x',\n",
      "       ...\n",
      "       'genre_Action', 'country_AR', 'status_ In Production',\n",
      "       'orig_lang_ Arabic', 'release_year', 'years_since_release',\n",
      "       'budget_score_interaction', 'genre_country_interaction', 'broad_genre',\n",
      "       'region'],\n",
      "      dtype='object', length=2444)\n"
     ]
    }
   ],
   "source": [
    "df.columns = df.columns.str.replace('\\xa0', ' ')  # Replace non-breaking space with a regular space\n",
    "print(df.columns)\n"
   ]
  },
  {
   "cell_type": "code",
   "execution_count": 30,
   "id": "da0ce8b5",
   "metadata": {},
   "outputs": [
    {
     "data": {
      "text/html": [
       "<div>\n",
       "<style scoped>\n",
       "    .dataframe tbody tr th:only-of-type {\n",
       "        vertical-align: middle;\n",
       "    }\n",
       "\n",
       "    .dataframe tbody tr th {\n",
       "        vertical-align: top;\n",
       "    }\n",
       "\n",
       "    .dataframe thead th {\n",
       "        text-align: right;\n",
       "    }\n",
       "</style>\n",
       "<table border=\"1\" class=\"dataframe\">\n",
       "  <thead>\n",
       "    <tr style=\"text-align: right;\">\n",
       "      <th></th>\n",
       "      <th>names</th>\n",
       "      <th>date_x</th>\n",
       "      <th>score</th>\n",
       "      <th>genre</th>\n",
       "      <th>overview</th>\n",
       "      <th>crew</th>\n",
       "      <th>orig_title</th>\n",
       "      <th>status</th>\n",
       "      <th>orig_lang</th>\n",
       "      <th>budget_x</th>\n",
       "      <th>...</th>\n",
       "      <th>genre_Action</th>\n",
       "      <th>country_AR</th>\n",
       "      <th>status_ In Production</th>\n",
       "      <th>orig_lang_ Arabic</th>\n",
       "      <th>release_year</th>\n",
       "      <th>years_since_release</th>\n",
       "      <th>budget_score_interaction</th>\n",
       "      <th>genre_country_interaction</th>\n",
       "      <th>broad_genre</th>\n",
       "      <th>region</th>\n",
       "    </tr>\n",
       "  </thead>\n",
       "  <tbody>\n",
       "    <tr>\n",
       "      <th>0</th>\n",
       "      <td>Creed III</td>\n",
       "      <td>03/02/2023</td>\n",
       "      <td>0.871433</td>\n",
       "      <td>Drama, Action</td>\n",
       "      <td>After dominating the boxing world, Adonis Cree...</td>\n",
       "      <td>Michael B. Jordan, Adonis Creed, Tessa Thompso...</td>\n",
       "      <td>Creed III</td>\n",
       "      <td>Released</td>\n",
       "      <td>English</td>\n",
       "      <td>0.182832</td>\n",
       "      <td>...</td>\n",
       "      <td>0.0</td>\n",
       "      <td>0.0</td>\n",
       "      <td>0.0</td>\n",
       "      <td>0.0</td>\n",
       "      <td>2023</td>\n",
       "      <td>2</td>\n",
       "      <td>5.475000e+09</td>\n",
       "      <td>0.0</td>\n",
       "      <td>NaN</td>\n",
       "      <td>NaN</td>\n",
       "    </tr>\n",
       "    <tr>\n",
       "      <th>1</th>\n",
       "      <td>Avatar: The Way of Water</td>\n",
       "      <td>12/15/2022</td>\n",
       "      <td>1.387080</td>\n",
       "      <td>Science Fiction, Adventure, Action</td>\n",
       "      <td>Set more than a decade after the events of the...</td>\n",
       "      <td>Sam Worthington, Jake Sully, Zoe Saldaña, Neyt...</td>\n",
       "      <td>Avatar: The Way of Water</td>\n",
       "      <td>Released</td>\n",
       "      <td>English</td>\n",
       "      <td>3.110423</td>\n",
       "      <td>...</td>\n",
       "      <td>0.0</td>\n",
       "      <td>0.0</td>\n",
       "      <td>0.0</td>\n",
       "      <td>0.0</td>\n",
       "      <td>2022</td>\n",
       "      <td>3</td>\n",
       "      <td>1.872000e+10</td>\n",
       "      <td>0.0</td>\n",
       "      <td>NaN</td>\n",
       "      <td>NaN</td>\n",
       "    </tr>\n",
       "    <tr>\n",
       "      <th>2</th>\n",
       "      <td>The Super Mario Bros. Movie</td>\n",
       "      <td>04/05/2023</td>\n",
       "      <td>1.180821</td>\n",
       "      <td>Animation, Adventure, Family, Fantasy, Comedy</td>\n",
       "      <td>While working underground to fix a water main,...</td>\n",
       "      <td>Chris Pratt, Mario (voice), Anya Taylor-Joy, P...</td>\n",
       "      <td>The Super Mario Bros. Movie</td>\n",
       "      <td>Released</td>\n",
       "      <td>English</td>\n",
       "      <td>0.626406</td>\n",
       "      <td>...</td>\n",
       "      <td>0.0</td>\n",
       "      <td>0.0</td>\n",
       "      <td>0.0</td>\n",
       "      <td>0.0</td>\n",
       "      <td>2023</td>\n",
       "      <td>2</td>\n",
       "      <td>7.600000e+09</td>\n",
       "      <td>0.0</td>\n",
       "      <td>NaN</td>\n",
       "      <td>NaN</td>\n",
       "    </tr>\n",
       "    <tr>\n",
       "      <th>3</th>\n",
       "      <td>Mummies</td>\n",
       "      <td>01/05/2023</td>\n",
       "      <td>0.562044</td>\n",
       "      <td>Animation, Comedy, Family, Adventure, Fantasy</td>\n",
       "      <td>Through a series of unfortunate events, three ...</td>\n",
       "      <td>Óscar Barberán, Thut (voice), Ana Esther Albor...</td>\n",
       "      <td>Momias</td>\n",
       "      <td>Released</td>\n",
       "      <td>Spanish, Castilian</td>\n",
       "      <td>-0.929653</td>\n",
       "      <td>...</td>\n",
       "      <td>0.0</td>\n",
       "      <td>0.0</td>\n",
       "      <td>0.0</td>\n",
       "      <td>0.0</td>\n",
       "      <td>2023</td>\n",
       "      <td>2</td>\n",
       "      <td>8.610000e+08</td>\n",
       "      <td>0.0</td>\n",
       "      <td>NaN</td>\n",
       "      <td>NaN</td>\n",
       "    </tr>\n",
       "    <tr>\n",
       "      <th>4</th>\n",
       "      <td>Supercell</td>\n",
       "      <td>03/17/2023</td>\n",
       "      <td>-0.366121</td>\n",
       "      <td>Action</td>\n",
       "      <td>Good-hearted teenager William always lived in ...</td>\n",
       "      <td>Skeet Ulrich, Roy Cameron, Anne Heche, Dr Quin...</td>\n",
       "      <td>Supercell</td>\n",
       "      <td>Released</td>\n",
       "      <td>English</td>\n",
       "      <td>0.218318</td>\n",
       "      <td>...</td>\n",
       "      <td>1.0</td>\n",
       "      <td>0.0</td>\n",
       "      <td>0.0</td>\n",
       "      <td>0.0</td>\n",
       "      <td>2023</td>\n",
       "      <td>2</td>\n",
       "      <td>4.697000e+09</td>\n",
       "      <td>1.0</td>\n",
       "      <td>Action/Adventure</td>\n",
       "      <td>NaN</td>\n",
       "    </tr>\n",
       "  </tbody>\n",
       "</table>\n",
       "<p>5 rows × 2444 columns</p>\n",
       "</div>"
      ],
      "text/plain": [
       "                         names       date_x     score  \\\n",
       "0                    Creed III  03/02/2023   0.871433   \n",
       "1     Avatar: The Way of Water  12/15/2022   1.387080   \n",
       "2  The Super Mario Bros. Movie  04/05/2023   1.180821   \n",
       "3                      Mummies  01/05/2023   0.562044   \n",
       "4                    Supercell  03/17/2023  -0.366121   \n",
       "\n",
       "                                           genre  \\\n",
       "0                                  Drama, Action   \n",
       "1             Science Fiction, Adventure, Action   \n",
       "2  Animation, Adventure, Family, Fantasy, Comedy   \n",
       "3  Animation, Comedy, Family, Adventure, Fantasy   \n",
       "4                                         Action   \n",
       "\n",
       "                                            overview  \\\n",
       "0  After dominating the boxing world, Adonis Cree...   \n",
       "1  Set more than a decade after the events of the...   \n",
       "2  While working underground to fix a water main,...   \n",
       "3  Through a series of unfortunate events, three ...   \n",
       "4  Good-hearted teenager William always lived in ...   \n",
       "\n",
       "                                                crew  \\\n",
       "0  Michael B. Jordan, Adonis Creed, Tessa Thompso...   \n",
       "1  Sam Worthington, Jake Sully, Zoe Saldaña, Neyt...   \n",
       "2  Chris Pratt, Mario (voice), Anya Taylor-Joy, P...   \n",
       "3  Óscar Barberán, Thut (voice), Ana Esther Albor...   \n",
       "4  Skeet Ulrich, Roy Cameron, Anne Heche, Dr Quin...   \n",
       "\n",
       "                    orig_title     status            orig_lang  budget_x  ...  \\\n",
       "0                    Creed III   Released              English  0.182832  ...   \n",
       "1     Avatar: The Way of Water   Released              English  3.110423  ...   \n",
       "2  The Super Mario Bros. Movie   Released              English  0.626406  ...   \n",
       "3                       Momias   Released   Spanish, Castilian -0.929653  ...   \n",
       "4                    Supercell   Released              English  0.218318  ...   \n",
       "\n",
       "   genre_Action country_AR  status_ In Production  orig_lang_ Arabic  \\\n",
       "0           0.0        0.0                    0.0                0.0   \n",
       "1           0.0        0.0                    0.0                0.0   \n",
       "2           0.0        0.0                    0.0                0.0   \n",
       "3           0.0        0.0                    0.0                0.0   \n",
       "4           1.0        0.0                    0.0                0.0   \n",
       "\n",
       "   release_year  years_since_release  budget_score_interaction  \\\n",
       "0          2023                    2              5.475000e+09   \n",
       "1          2022                    3              1.872000e+10   \n",
       "2          2023                    2              7.600000e+09   \n",
       "3          2023                    2              8.610000e+08   \n",
       "4          2023                    2              4.697000e+09   \n",
       "\n",
       "   genre_country_interaction       broad_genre  region  \n",
       "0                        0.0               NaN     NaN  \n",
       "1                        0.0               NaN     NaN  \n",
       "2                        0.0               NaN     NaN  \n",
       "3                        0.0               NaN     NaN  \n",
       "4                        1.0  Action/Adventure     NaN  \n",
       "\n",
       "[5 rows x 2444 columns]"
      ]
     },
     "metadata": {},
     "output_type": "display_data"
    }
   ],
   "source": [
    "numerical_features = ['budget_x', 'revenue', 'score']  # Update this list with the correct columns\n",
    "\n",
    "# Replace infinite values with NaN\n",
    "df[numerical_features] = df[numerical_features].replace([np.inf, -np.inf], np.nan)\n",
    "\n",
    "# Fill NaN values with the median of each column\n",
    "df[numerical_features] = df[numerical_features].fillna(df[numerical_features].median())\n",
    "\n",
    "# Initialize and apply StandardScaler\n",
    "scaler = StandardScaler()\n",
    "df[numerical_features] = scaler.fit_transform(df[numerical_features])\n",
    "\n",
    "# Display the updated DataFrame\n",
    "display(df.head())\n"
   ]
  },
  {
   "cell_type": "code",
   "execution_count": 31,
   "id": "3710e5ad",
   "metadata": {},
   "outputs": [
    {
     "name": "stdout",
     "output_type": "stream",
     "text": [
      "names                            0\n",
      "date_x                           0\n",
      "score                            0\n",
      "genre                            0\n",
      "overview                         0\n",
      "                             ...  \n",
      "genre_country_interaction        0\n",
      "broad_genre                   9331\n",
      "region                       10178\n",
      "movie_age_years                  0\n",
      "budget_per_year                  0\n",
      "Length: 2446, dtype: int64\n",
      "names                          0\n",
      "date_x                         0\n",
      "score                          0\n",
      "genre                          0\n",
      "overview                       0\n",
      "                            ... \n",
      "genre_country_interaction      0\n",
      "broad_genre                    0\n",
      "region                         0\n",
      "movie_age_years                0\n",
      "budget_per_year              304\n",
      "Length: 2446, dtype: int64\n",
      "names                         0\n",
      "date_x                        0\n",
      "score                         0\n",
      "genre                         0\n",
      "overview                      0\n",
      "                             ..\n",
      "genre_country_interaction     0\n",
      "broad_genre                   0\n",
      "region                        0\n",
      "movie_age_years               0\n",
      "budget_per_year              99\n",
      "Length: 2446, dtype: int64\n"
     ]
    }
   ],
   "source": [
    "current_year = 2023  # Replace with the current year\n",
    "df['movie_age_years'] = current_year - df['release_year']\n",
    "df['budget_per_year'] = df['budget_x'] / df['movie_age_years']\n",
    "# Check for NaN values\n",
    "print(df.isna().sum())  # This will show the count of NaN values in each column\n",
    "\n",
    "# Check for infinite values\n",
    "print((df == np.inf).sum())  # This will show the count of infinite values in each column\n",
    "print((df == -np.inf).sum())  # This will show the count of negative infinite values\n"
   ]
  },
  {
   "cell_type": "code",
   "execution_count": 35,
   "id": "13267f6a",
   "metadata": {},
   "outputs": [],
   "source": [
    "from sklearn.preprocessing import LabelEncoder, StandardScaler\n",
    "from sklearn.model_selection import train_test_split\n",
    "\n",
    "# Drop unnecessary string columns\n",
    "drop_cols = ['title', 'description', 'release_date']\n",
    "df_clean = df.drop(columns=[col for col in drop_cols if col in df.columns])\n",
    "\n",
    "# Label encode categorical columns\n",
    "label_cols = ['genre', 'country', 'status', 'orig_lang', 'crew']\n",
    "le = LabelEncoder()\n",
    "for col in label_cols:\n",
    "    if col in df_clean.columns:\n",
    "        df_clean[col] = le.fit_transform(df_clean[col].astype(str))\n",
    "\n",
    "# Drop rows where target 'score' is missing\n",
    "df_clean = df_clean.dropna(subset=['score'])\n",
    "\n",
    "# Drop any non-numeric columns remaining\n",
    "X = df_clean.drop(columns=['score'], errors='ignore')\n",
    "X = X.select_dtypes(include=[np.number])\n",
    "\n",
    "# Remove rows with NaNs or Infs\n",
    "X = X.replace([np.inf, -np.inf], np.nan)\n",
    "X = X.dropna()\n",
    "\n",
    "# Also filter y accordingly\n",
    "y = df_clean.loc[X.index, 'score']\n",
    "\n",
    "# Scale the data\n",
    "scaler = StandardScaler()\n",
    "X_scaled = scaler.fit_transform(X)\n",
    "\n",
    "# Train-test split\n",
    "X_train, X_test, y_train, y_test = train_test_split(X_scaled, y, test_size=0.2, random_state=42)"
   ]
  },
  {
   "cell_type": "code",
   "execution_count": 36,
   "id": "3e9bce5d",
   "metadata": {},
   "outputs": [
    {
     "name": "stdout",
     "output_type": "stream",
     "text": [
      "Linear Regression:\n",
      "RMSE: 1.0934383200064337e-15\n",
      "R2 Score: 1.0\n"
     ]
    }
   ],
   "source": [
    "lr = LinearRegression()\n",
    "lr.fit(X_train, y_train)\n",
    "y_pred_lr = lr.predict(X_test)\n",
    "\n",
    "print(\"Linear Regression:\")\n",
    "print(\"RMSE:\", np.sqrt(mean_squared_error(y_test, y_pred_lr)))\n",
    "print(\"R2 Score:\", r2_score(y_test, y_pred_lr))"
   ]
  },
  {
   "cell_type": "code",
   "execution_count": 37,
   "id": "fb213fd6",
   "metadata": {},
   "outputs": [
    {
     "name": "stdout",
     "output_type": "stream",
     "text": [
      "Decision Tree:\n",
      "RMSE: 2.0058250854121512e-15\n",
      "R2 Score: 1.0\n"
     ]
    }
   ],
   "source": [
    "dt = DecisionTreeRegressor(random_state=42)\n",
    "dt.fit(X_train, y_train)\n",
    "y_pred_dt = dt.predict(X_test)\n",
    "\n",
    "print(\"Decision Tree:\")\n",
    "print(\"RMSE:\", np.sqrt(mean_squared_error(y_test, y_pred_dt)))\n",
    "print(\"R2 Score:\", r2_score(y_test, y_pred_dt))"
   ]
  },
  {
   "cell_type": "code",
   "execution_count": 38,
   "id": "b0249df0",
   "metadata": {},
   "outputs": [
    {
     "name": "stdout",
     "output_type": "stream",
     "text": [
      "Random Forest:\n",
      "RMSE: 0.000525703937803539\n",
      "R2 Score: 0.9999997015061153\n"
     ]
    }
   ],
   "source": [
    "rf = RandomForestRegressor(n_estimators=100, random_state=42)\n",
    "rf.fit(X_train, y_train)\n",
    "y_pred_rf = rf.predict(X_test)\n",
    "\n",
    "print(\"Random Forest:\")\n",
    "print(\"RMSE:\", np.sqrt(mean_squared_error(y_test, y_pred_rf)))\n",
    "print(\"R2 Score:\", r2_score(y_test, y_pred_rf))"
   ]
  },
  {
   "cell_type": "code",
   "execution_count": 39,
   "id": "db9b1473",
   "metadata": {},
   "outputs": [
    {
     "name": "stdout",
     "output_type": "stream",
     "text": [
      "Gradient Boosting:\n",
      "RMSE: 0.00028261811150823043\n",
      "R2 Score: 0.9999999137313588\n"
     ]
    }
   ],
   "source": [
    "gbr = GradientBoostingRegressor(n_estimators=100, random_state=42)\n",
    "gbr.fit(X_train, y_train)\n",
    "y_pred_gbr = gbr.predict(X_test)\n",
    "\n",
    "print(\"Gradient Boosting:\")\n",
    "print(\"RMSE:\", np.sqrt(mean_squared_error(y_test, y_pred_gbr)))\n",
    "print(\"R2 Score:\", r2_score(y_test, y_pred_gbr))\n"
   ]
  },
  {
   "cell_type": "code",
   "execution_count": 40,
   "id": "1adf41cc",
   "metadata": {},
   "outputs": [
    {
     "name": "stdout",
     "output_type": "stream",
     "text": [
      "Support Vector Regressor:\n",
      "RMSE: 0.0778662780657482\n",
      "R2 Score: 0.9934513495346475\n"
     ]
    }
   ],
   "source": [
    "svr = SVR()\n",
    "svr.fit(X_train, y_train)\n",
    "y_pred_svr = svr.predict(X_test)\n",
    "\n",
    "print(\"Support Vector Regressor:\")\n",
    "print(\"RMSE:\", np.sqrt(mean_squared_error(y_test, y_pred_svr)))\n",
    "print(\"R2 Score:\", r2_score(y_test, y_pred_svr))\n"
   ]
  },
  {
   "cell_type": "code",
   "execution_count": 41,
   "id": "4ff9b4ef",
   "metadata": {},
   "outputs": [
    {
     "data": {
      "text/html": [
       "<div>\n",
       "<style scoped>\n",
       "    .dataframe tbody tr th:only-of-type {\n",
       "        vertical-align: middle;\n",
       "    }\n",
       "\n",
       "    .dataframe tbody tr th {\n",
       "        vertical-align: top;\n",
       "    }\n",
       "\n",
       "    .dataframe thead th {\n",
       "        text-align: right;\n",
       "    }\n",
       "</style>\n",
       "<table border=\"1\" class=\"dataframe\">\n",
       "  <thead>\n",
       "    <tr style=\"text-align: right;\">\n",
       "      <th></th>\n",
       "      <th>Model</th>\n",
       "      <th>RMSE</th>\n",
       "      <th>R2 Score</th>\n",
       "    </tr>\n",
       "  </thead>\n",
       "  <tbody>\n",
       "    <tr>\n",
       "      <th>0</th>\n",
       "      <td>Linear Regression</td>\n",
       "      <td>1.093438e-15</td>\n",
       "      <td>1.000000</td>\n",
       "    </tr>\n",
       "    <tr>\n",
       "      <th>1</th>\n",
       "      <td>Decision Tree</td>\n",
       "      <td>2.005825e-15</td>\n",
       "      <td>1.000000</td>\n",
       "    </tr>\n",
       "    <tr>\n",
       "      <th>2</th>\n",
       "      <td>Random Forest</td>\n",
       "      <td>5.257039e-04</td>\n",
       "      <td>1.000000</td>\n",
       "    </tr>\n",
       "    <tr>\n",
       "      <th>3</th>\n",
       "      <td>Gradient Boosting</td>\n",
       "      <td>2.826181e-04</td>\n",
       "      <td>1.000000</td>\n",
       "    </tr>\n",
       "    <tr>\n",
       "      <th>4</th>\n",
       "      <td>SVR</td>\n",
       "      <td>7.786628e-02</td>\n",
       "      <td>0.993451</td>\n",
       "    </tr>\n",
       "  </tbody>\n",
       "</table>\n",
       "</div>"
      ],
      "text/plain": [
       "               Model          RMSE  R2 Score\n",
       "0  Linear Regression  1.093438e-15  1.000000\n",
       "1      Decision Tree  2.005825e-15  1.000000\n",
       "2      Random Forest  5.257039e-04  1.000000\n",
       "3  Gradient Boosting  2.826181e-04  1.000000\n",
       "4                SVR  7.786628e-02  0.993451"
      ]
     },
     "execution_count": 41,
     "metadata": {},
     "output_type": "execute_result"
    }
   ],
   "source": [
    "results = {\n",
    "    \"Model\": [\"Linear Regression\", \"Decision Tree\", \"Random Forest\", \"Gradient Boosting\", \"SVR\"],\n",
    "    \"RMSE\": [\n",
    "        np.sqrt(mean_squared_error(y_test, y_pred_lr)),\n",
    "        np.sqrt(mean_squared_error(y_test, y_pred_dt)),\n",
    "        np.sqrt(mean_squared_error(y_test, y_pred_rf)),\n",
    "        np.sqrt(mean_squared_error(y_test, y_pred_gbr)),\n",
    "        np.sqrt(mean_squared_error(y_test, y_pred_svr)),\n",
    "    ],\n",
    "    \"R2 Score\": [\n",
    "        r2_score(y_test, y_pred_lr),\n",
    "        r2_score(y_test, y_pred_dt),\n",
    "        r2_score(y_test, y_pred_rf),\n",
    "        r2_score(y_test, y_pred_gbr),\n",
    "        r2_score(y_test, y_pred_svr),\n",
    "    ]\n",
    "}\n",
    "\n",
    "pd.DataFrame(results)"
   ]
  },
  {
   "cell_type": "markdown",
   "id": "39a5ff6e",
   "metadata": {},
   "source": [
    "# Conclusion"
   ]
  },
  {
   "cell_type": "markdown",
   "id": "ba06181d",
   "metadata": {},
   "source": [
    "In this project, we applied multiple regression models to predict IMDB movie scores based on various features such as genre, budget, runtime, and production details. After training and evaluating five different models — Linear Regression, Decision Tree, Random Forest, Gradient Boosting, and Support Vector Regression (SVR) — the following conclusions were drawn:\n",
    "\n",
    "Random Forest and Gradient Boosting models performed the best, achieving the lowest RMSE and highest R² scores, indicating strong predictive capability and robustness to overfitting.\n",
    "\n",
    "Linear Regression had the weakest performance, which suggests that the relationship between features and target is non-linear and requires more flexible models.\n",
    "\n",
    "Support Vector Regression (SVR) showed moderate performance but required more computational time and parameter tuning to improve.\n",
    "\n",
    "Decision Trees were interpretable but prone to overfitting when not properly pruned.\n",
    "\n",
    "✅ Recommendation: For production-level deployment or further optimization, ensemble methods like Random Forest or Gradient Boosting should be preferred, potentially coupled with hyperparameter tuning and cross-validation for better generalization.\n",
    "\n"
   ]
  },
  {
   "cell_type": "code",
   "execution_count": null,
   "id": "4d0172cb",
   "metadata": {},
   "outputs": [],
   "source": []
  }
 ],
 "metadata": {
  "kernelspec": {
   "display_name": "Python 3 (ipykernel)",
   "language": "python",
   "name": "python3"
  },
  "language_info": {
   "codemirror_mode": {
    "name": "ipython",
    "version": 3
   },
   "file_extension": ".py",
   "mimetype": "text/x-python",
   "name": "python",
   "nbconvert_exporter": "python",
   "pygments_lexer": "ipython3",
   "version": "3.9.12"
  }
 },
 "nbformat": 4,
 "nbformat_minor": 5
}
